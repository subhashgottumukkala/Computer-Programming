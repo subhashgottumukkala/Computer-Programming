{
 "cells": [
  {
   "cell_type": "markdown",
   "metadata": {},
   "source": [
    "Problem 1:"
   ]
  },
  {
   "cell_type": "code",
   "execution_count": 1,
   "metadata": {},
   "outputs": [
    {
     "name": "stdout",
     "output_type": "stream",
     "text": [
      "[['A'], ['B', 'C']]\n",
      "[['A'], ['B'], ['C']]\n",
      "[['A'], ['C'], ['B']]\n",
      "[['A'], ['C', 'B']]\n",
      "[['A', 'B'], ['C']]\n",
      "[['A', 'B', 'C']]\n"
     ]
    }
   ],
   "source": [
    "def is_goal(state):\n",
    "    \"\"\"is the current state is the goal state.\"\"\"\n",
    "    return state == [['A', 'B', 'C']]\n",
    "\n",
    "def next_states(state):\n",
    "    \"\"\"all successor states from the current state.\"\"\"\n",
    "    successors = []\n",
    "    for i, stack in enumerate(state):\n",
    "        if stack:\n",
    "            for j in range(len(state) + 1):\n",
    "                if i != j:\n",
    "                    new_state = [s[:] for s in state]  \n",
    "                    block = new_state[i].pop()  \n",
    "                    if j < len(state):\n",
    "                        new_state[j].append(block)  \n",
    "                    else:\n",
    "                        new_state.append([block]) \n",
    "                    if not new_state[i]:  \n",
    "                        del new_state[i]\n",
    "                    successors.append(new_state)\n",
    "    return successors\n",
    "\n",
    "def dfs(initial_state):\n",
    "    \"\"\"Depth-first search algorithm.\"\"\"\n",
    "    stack = [(initial_state, [])] \n",
    "    seen = set()  \n",
    "    while stack:\n",
    "        state, path = stack.pop()\n",
    "        if is_goal(state):\n",
    "            return path + [state]\n",
    "        state_key = tuple(tuple(s) for s in state) \n",
    "        if state_key not in seen:\n",
    "            seen.add(state_key)\n",
    "            for successor in next_states(state):\n",
    "                stack.append((successor, path + [state]))\n",
    "    return None  \n",
    "\n",
    "\n",
    "initial_state = [['A'], ['B', 'C']]\n",
    "goal_state = [['A', 'B', 'C']]\n",
    "\n",
    "\n",
    "solution = dfs(initial_state)\n",
    "if solution:\n",
    "    for step in solution:\n",
    "        print(step)\n",
    "else:\n",
    "    print(\"No solution found.\")\n"
   ]
  },
  {
   "cell_type": "markdown",
   "metadata": {},
   "source": [
    "Problem 2:"
   ]
  },
  {
   "cell_type": "code",
   "execution_count": 2,
   "metadata": {},
   "outputs": [
    {
     "name": "stdout",
     "output_type": "stream",
     "text": [
      "[['A'], ['B', 'C']]\n",
      "[['A'], ['B'], ['C']]\n",
      "[['A', 'B'], ['C']]\n",
      "[['A', 'B', 'C']]\n"
     ]
    }
   ],
   "source": [
    "from collections import deque\n",
    "\n",
    "def is_goal(state):\n",
    "    \"\"\"Check if the current state is the goal state.\"\"\"\n",
    "    return state == [['A', 'B', 'C']]\n",
    "\n",
    "def next_states(state):\n",
    "    \"\"\"Generate all possible successor states from the current state.\"\"\"\n",
    "    successors = []\n",
    "    for i, stack in enumerate(state):\n",
    "        if stack:  \n",
    "            for j in range(len(state) + 1):\n",
    "                if i != j:  \n",
    "                    new_state = [s[:] for s in state]  \n",
    "                    block = new_state[i].pop() \n",
    "                    if j < len(state):\n",
    "                        new_state[j].append(block)  \n",
    "                    else:\n",
    "                        new_state.append([block])  \n",
    "                    if not new_state[i]:  \n",
    "                        del new_state[i]\n",
    "                    successors.append(new_state)\n",
    "    return successors\n",
    "\n",
    "def bfs(initial_state):\n",
    "    \"\"\"Breadth-first search algorithm.\"\"\"\n",
    "    queue = deque([(initial_state, [])])  \n",
    "    seen = set() \n",
    "    while queue:\n",
    "        state, path = queue.popleft() \n",
    "        if is_goal(state):\n",
    "            return path + [state]\n",
    "        state_key = tuple(tuple(s) for s in state)\n",
    "        if state_key not in seen:\n",
    "            seen.add(state_key)\n",
    "            for successor in next_states(state):\n",
    "                queue.append((successor, path + [state]))\n",
    "    return None\n",
    "\n",
    "\n",
    "initial_state = [['A'], ['B', 'C']]\n",
    "goal_state = [['A', 'B', 'C']]\n",
    "\n",
    "\n",
    "solution = bfs(initial_state)\n",
    "if solution:\n",
    "    for step in solution:\n",
    "        print(step)\n",
    "else:\n",
    "    print(\"No solution found.\")\n"
   ]
  },
  {
   "cell_type": "markdown",
   "metadata": {},
   "source": [
    "Problem 3:"
   ]
  },
  {
   "cell_type": "code",
   "execution_count": null,
   "metadata": {},
   "outputs": [],
   "source": [
    "def is_goal(state):\n",
    "    \"\"\"Check if the current state is the goal state.\"\"\"\n",
    "    return state == [['A', 'B', 'C']]\n",
    "\n",
    "def generate_successor_states(state):\n",
    "    \"\"\"Generate all possible successor states from the current state.\"\"\"\n",
    "    successors = []\n",
    "    for i, stack in enumerate(state):\n",
    "        if stack:  # Can only move from non-empty stack\n",
    "            for j in range(len(state) + 1):\n",
    "                if i != j:  # Can't move within the same stack\n",
    "                    new_state = [s[:] for s in state]  # Deep copy of state\n",
    "                    block = new_state[i].pop()  # Remove top block from stack i\n",
    "                    if j < len(state):\n",
    "                        new_state[j].append(block)  # Add block to top of stack j\n",
    "                    else:\n",
    "                        new_state.append([block])  # Create new stack\n",
    "                    if not new_state[i]:  # Remove empty stack\n",
    "                        del new_state[i]\n",
    "                    successors.append(new_state)\n",
    "    return successors\n",
    "\n",
    "def dls(initial_state, depth_limit):\n",
    "    \"\"\"Depth Limited Search algorithm.\"\"\"\n",
    "    if depth_limit < 0:\n",
    "        return None  # Depth limit reached, return failure (None)\n",
    "    \n",
    "    if is_goal(initial_state):\n",
    "        return [initial_state]  # Return path as list of initial state if it's goal\n",
    "\n",
    "    if depth_limit == 0:\n",
    "        return None  # No further exploration allowed, return failure (None)\n",
    "    \n",
    "    for successor in generate_successor_states(initial_state):\n",
    "        result = dls(successor, depth_limit - 1)  # Recursive call with reduced depth limit\n",
    "        if result is not None:\n",
    "            return [initial_state] + result  # Return path including current state\n",
    "    \n",
    "    return None  # No solution found within depth limit\n",
    "\n",
    "# Initial and goal states\n",
    "initial_state = [['B'], ['A', 'C']]\n",
    "depth_limit = 1\n",
    "\n",
    "# Perform Depth Limited Search to find a solution\n",
    "solution = dls(initial_state, depth_limit)\n",
    "if solution:\n",
    "    for step in solution:\n",
    "        print(step)\n",
    "else:\n",
    "    print(\"No solution found within depth limit.\")\n"
   ]
  }
 ],
 "metadata": {
  "kernelspec": {
   "display_name": "Python 3",
   "language": "python",
   "name": "python3"
  },
  "language_info": {
   "codemirror_mode": {
    "name": "ipython",
    "version": 3
   },
   "file_extension": ".py",
   "mimetype": "text/x-python",
   "name": "python",
   "nbconvert_exporter": "python",
   "pygments_lexer": "ipython3",
   "version": "3.11.4"
  }
 },
 "nbformat": 4,
 "nbformat_minor": 2
}
