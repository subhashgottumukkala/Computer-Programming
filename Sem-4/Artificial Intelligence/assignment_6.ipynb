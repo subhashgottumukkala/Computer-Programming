{
 "cells": [
  {
   "cell_type": "code",
   "execution_count": null,
   "metadata": {},
   "outputs": [],
   "source": [
    "import pandas as pd\n",
    "import numpy as np\n",
    "\n",
    "np.random.seed(0)\n",
    "\n",
    "data = {\n",
    "    'Experience': np.random.randint(0, 11, 100), \n",
    "    'Written_Score': np.random.randint(1, 11, 100),\n",
    "    'Interview_Score': np.random.randint(1, 11, 100),\n",
    "}\n",
    "\n",
    "\n",
    "data['Salary'] = (\n",
    "    3000 * data['Experience'] +\n",
    "    1500 * data['Written_Score'] +\n",
    "    2000 * data['Interview_Score'] +\n",
    "    np.random.normal(0, 800, 100)\n",
    ").astype(int)\n",
    "\n",
    "\n",
    "df = pd.DataFrame(data)\n",
    "df.to_csv('candidate_salary_data.csv', index=False)\n",
    "print(df.head())\n"
   ]
  },
  {
   "cell_type": "code",
   "execution_count": null,
   "metadata": {},
   "outputs": [],
   "source": [
    "from sklearn.neighbors import KNeighborsRegressor\n",
    "from sklearn.model_selection import train_test_split\n",
    "from sklearn.metrics import mean_squared_error\n",
    "import pandas as pd\n",
    "\n",
    "\n",
    "df = pd.read_csv('candidate_salary_data.csv')\n",
    "\n",
    "\n",
    "X = df[['Experience', 'Written_Score', 'Interview_Score']]\n",
    "y = df['Salary']\n",
    "\n",
    "X_train, X_test, y_train, y_test = train_test_split(X, y, test_size=0.2, random_state=1)\n",
    "\n",
    "knn = KNeighborsRegressor(n_neighbors=3)\n",
    "knn.fit(X_train, y_train)\n",
    "\n",
    "\n",
    "y_pred = knn.predict(X_test)\n",
    "\n",
    "\n",
    "mse = mean_squared_error(y_test, y_pred)\n",
    "print(f\"Mean Squared Error: {mse}\")\n"
   ]
  }
 ],
 "metadata": {
  "kernelspec": {
   "display_name": "Python 3",
   "language": "python",
   "name": "python3"
  },
  "language_info": {
   "name": "python",
   "version": "3.12.2"
  }
 },
 "nbformat": 4,
 "nbformat_minor": 2
}
