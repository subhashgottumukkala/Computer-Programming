{
 "cells": [
  {
   "cell_type": "markdown",
   "metadata": {
    "id": "eaNq4Gmi9Qic"
   },
   "source": [
    "# Advance in Python - Part 1 (Data Structures in Python - List)\n",
    "\n",
    "### List is a collection of items which is ordered and changeable. It can store heterogeneous data type.\n",
    "\n",
    "#### Topics\n",
    "1. Data Structures in Python - List\n",
    "   - List declaration\n",
    "   - List iteration while/for loop\n",
    "   - Add element to list using append(), insert(), extend()\n",
    "   - Deleting from list using del, remove(), pop()\n",
    "   - Operations on List: Sum/Average, Min/Max, Sort, Merge, Search\n",
    "   - Generate a list of random numbers, random strings \n",
    "   - Nested List\n",
    "   - Use of copy() function\n",
    "\n",
    "##### Note: \n",
    "1. First Clean the Evironment (Go to \"Kernel\" Menu --> \"Restart & Clean Output\"\n",
    "2. To execute the code --> Click on a cell and press cntrl + enter key"
   ]
  },
  {
   "cell_type": "markdown",
   "metadata": {
    "id": "y3VrvYW2-6Ka"
   },
   "source": [
    "## 1: Data Structure - List"
   ]
  },
  {
   "cell_type": "markdown",
   "metadata": {
    "id": "3Rf_XwbvaF8s"
   },
   "source": [
    "### 1.1: List declaration"
   ]
  },
  {
   "cell_type": "code",
   "execution_count": 1,
   "metadata": {
    "colab": {
     "base_uri": "https://localhost:8080/",
     "height": 35
    },
    "executionInfo": {
     "elapsed": 1478,
     "status": "ok",
     "timestamp": 1590401820703,
     "user": {
      "displayName": "Prashant Singh Rana",
      "photoUrl": "https://lh3.googleusercontent.com/a-/AOh14Gi2FtAQLyyuUB_MxR3VjjpuNfLOCJ-1R_qmOCsPLg=s64",
      "userId": "12245731978561464083"
     },
     "user_tz": -330
    },
    "id": "eikxCFcN-7AR",
    "outputId": "69d3d3da-b19c-4b8d-b9b8-e78dfcdec3e2"
   },
   "outputs": [
    {
     "name": "stdout",
     "output_type": "stream",
     "text": [
      "L                  --> ['Varun', 'Kumar', 3.14, 3]\n",
      "Number of elements --> 4\n",
      "Type of Object     --> <class 'list'>\n"
     ]
    }
   ],
   "source": [
    "#------------------------------------------------------------------------\n",
    "# 1.1: List declaration\n",
    "#------------------------------------------------------------------------\n",
    "# Method 1\n",
    "L = [\"Varun\", 'Kumar', 3.14, 3]\n",
    "\n",
    "print (\"L                  -->\", L)\n",
    "print (\"Number of elements -->\", len(L))\n",
    "print (\"Type of Object     -->\", type(L))\n"
   ]
  },
  {
   "cell_type": "code",
   "execution_count": 2,
   "metadata": {
    "id": "7GvUJsnCaF8y",
    "outputId": "a27cfd91-a976-4f48-8e6c-d511e28f5b7c"
   },
   "outputs": [
    {
     "name": "stdout",
     "output_type": "stream",
     "text": [
      "L                  --> ['Varun', 'Kumar', 3.14, 3]\n",
      "Number of elements --> 4\n",
      "Type of Object     --> <class 'list'>\n"
     ]
    }
   ],
   "source": [
    "# Method 2\n",
    "L = list([\"Varun\", 'Kumar', 3.14, 3]) \n",
    "#L = list((\"Pratham\", 'Sharma', 3.14, 3)) # Also works \n",
    "\n",
    "print (\"L                  -->\", L)\n",
    "print (\"Number of elements -->\", len(L))\n",
    "print (\"Type of Object     -->\", type(L))\n"
   ]
  },
  {
   "cell_type": "markdown",
   "metadata": {
    "id": "NWhU2mXUaF86"
   },
   "source": [
    "### 1.2: List iteration using while loop"
   ]
  },
  {
   "cell_type": "code",
   "execution_count": 3,
   "metadata": {
    "id": "gPKpbtqaaF87",
    "outputId": "9856abfa-4487-4c9f-cdee-380becc4c1d5"
   },
   "outputs": [
    {
     "name": "stdout",
     "output_type": "stream",
     "text": [
      "L --> ['Varun', 'Kumar', 3.14, 3]\n",
      "\n",
      "Varun\n",
      "Kumar\n",
      "3.14\n",
      "3\n"
     ]
    }
   ],
   "source": [
    "#------------------------------------------------------------------------\n",
    "# 1.2: List iteration using while loop\n",
    "#------------------------------------------------------------------------\n",
    "L = [\"Varun\", 'Kumar', 3.14, 3]\n",
    "print (\"L -->\", L)\n",
    "\n",
    "print (\"\")\n",
    "i = 0\n",
    "while i < len(L): \n",
    "    print (L[i])\n",
    "    i += 1\n"
   ]
  },
  {
   "cell_type": "markdown",
   "metadata": {
    "id": "BZya8gGGaF88"
   },
   "source": [
    "### 1.3: List iteration using for loop"
   ]
  },
  {
   "cell_type": "code",
   "execution_count": 4,
   "metadata": {
    "id": "MwYtZ11saF89",
    "outputId": "6688879e-86a0-4fe8-fffc-437d83127aa6"
   },
   "outputs": [
    {
     "name": "stdout",
     "output_type": "stream",
     "text": [
      "L --> ['Pratham', 'Sharma', 3.14, 3]\n",
      "\n",
      "Pratham\n",
      "Sharma\n",
      "3.14\n",
      "3\n"
     ]
    }
   ],
   "source": [
    "#------------------------------------------------------------------------\n",
    "# 1.3: List iteration using for loop\n",
    "#------------------------------------------------------------------------\n",
    "L = [\"Pratham\", 'Sharma', 3.14, 3]\n",
    "print (\"L -->\", L)\n",
    "\n",
    "print (\"\")\n",
    "for i in range(0, len(L)): \n",
    "    print (L[i])\n"
   ]
  },
  {
   "cell_type": "markdown",
   "metadata": {
    "id": "fbTn3if1aF8-"
   },
   "source": [
    "### 1.4: List iteration using for loop"
   ]
  },
  {
   "cell_type": "code",
   "execution_count": 5,
   "metadata": {
    "id": "nRSUYLl3aF8_",
    "outputId": "9984aa2c-c8b1-4a4c-f6b4-9c6188e1c552"
   },
   "outputs": [
    {
     "name": "stdout",
     "output_type": "stream",
     "text": [
      "L --> ['Varun', 'Kumar', 3.14, 3]\n",
      "\n",
      "Varun\n",
      "Kumar\n",
      "3.14\n",
      "3\n"
     ]
    }
   ],
   "source": [
    "#------------------------------------------------------------------------\n",
    "# 1.4: List iteration using for loop\n",
    "#------------------------------------------------------------------------\n",
    "L = [\"Varun\", 'Kumar', 3.14, 3]\n",
    "print (\"L -->\", L)\n",
    "\n",
    "print (\"\")\n",
    "for s in L:\n",
    "    print (s)\n"
   ]
  },
  {
   "cell_type": "markdown",
   "metadata": {
    "id": "zpbpl8g_aF9A"
   },
   "source": [
    "### 1.5: Accessing/Selecting List item"
   ]
  },
  {
   "cell_type": "code",
   "execution_count": 6,
   "metadata": {
    "id": "4H8g6-dkaF9B",
    "outputId": "5336351e-6778-4242-cc73-f92a8031cfd2"
   },
   "outputs": [
    {
     "name": "stdout",
     "output_type": "stream",
     "text": [
      "L     --> [3, 6, 9, 12, 5, 3, 2]\n",
      "\n",
      "L[1]  --> 6\n",
      "L[2]  --> 9\n",
      "L[-1] --> 2\n",
      "L[-2] --> 3\n"
     ]
    }
   ],
   "source": [
    "#------------------------------------------------------------------------\n",
    "# 1.5: Accessing/Selecting List item\n",
    "#------------------------------------------------------------------------\n",
    "# Example 1\n",
    "L = [3, 6, 9, 12, 5, 3, 2]\n",
    "print (\"L     -->\", L)\n",
    "\n",
    "print (\"\")\n",
    "print (\"L[1]  -->\", L[1])\n",
    "print (\"L[2]  -->\", L[2])\n",
    "print (\"L[-1] -->\", L[-1]) #Last element\n",
    "print (\"L[-2] -->\", L[-2])\n"
   ]
  },
  {
   "cell_type": "code",
   "execution_count": 7,
   "metadata": {
    "id": "sSKmmkxiaF9B",
    "outputId": "8fe544e8-1ad7-4d81-aa30-dbec1820877a"
   },
   "outputs": [
    {
     "name": "stdout",
     "output_type": "stream",
     "text": [
      "L        --> [3, 6, 9, 12, 5, 3, 2]\n",
      "\n",
      "L[1:3]   --> [6, 9]\n",
      "L[2:]    --> [9, 12, 5, 3, 2]\n",
      "L[2:5]   --> [9, 12, 5]\n",
      "L[:2]    --> [3, 6]\n",
      "L[:-1]   --> [3, 6, 9, 12, 5, 3]\n",
      "L[-4:-1] --> [12, 5, 3]\n"
     ]
    }
   ],
   "source": [
    "# Example 2\n",
    "L = [3, 6, 9, 12, 5, 3, 2]\n",
    "print (\"L        -->\", L)\n",
    "\n",
    "print (\"\")\n",
    "print (\"L[1:3]   -->\",L[1:3])\n",
    "print (\"L[2:]    -->\",L[2:])   #upto end of the list\n",
    "print (\"L[2:5]   -->\",L[2:5]) \n",
    "print (\"L[:2]    -->\",L[:2])\n",
    "print (\"L[:-1]   -->\",L[:-1])\n",
    "print (\"L[-4:-1] -->\",L[-4:-1])  # excluding -1\n"
   ]
  },
  {
   "cell_type": "code",
   "execution_count": 8,
   "metadata": {
    "id": "aL7GZGQAaF9D",
    "outputId": "804645a2-1945-4105-ca38-75532df9a92f"
   },
   "outputs": [
    {
     "name": "stdout",
     "output_type": "stream",
     "text": [
      "L        --> [3, 6, 9, 12, 5, 3, 2]\n",
      "\n",
      "L[::1]   --> [3, 6, 9, 12, 5, 3, 2]\n",
      "L[::-1]  --> [2, 3, 5, 12, 9, 6, 3]\n",
      "L[::-2]  --> [2, 5, 9, 3]\n",
      "L[::2]   --> [3, 9, 5, 2]\n"
     ]
    }
   ],
   "source": [
    "# Example 3\n",
    "L = [3, 6, 9, 12, 5, 3, 2]\n",
    "print (\"L        -->\", L)\n",
    "\n",
    "print (\"\")\n",
    "print (\"L[::1]   -->\", L[::1])        # No change\n",
    "print (\"L[::-1]  -->\", L[::-1])       # Reverse\n",
    "print (\"L[::-2]  -->\", L[::-2])\n",
    "print (\"L[::2]   -->\", L[::2])"
   ]
  },
  {
   "cell_type": "markdown",
   "metadata": {
    "id": "6c-q7GG1aF9H"
   },
   "source": [
    "### 1.6: Add element to list using append()"
   ]
  },
  {
   "cell_type": "code",
   "execution_count": 9,
   "metadata": {
    "id": "t23R5LdlaF9J",
    "outputId": "65948a30-3df7-4b3b-ba18-0d24d796b4de"
   },
   "outputs": [
    {
     "name": "stdout",
     "output_type": "stream",
     "text": [
      "L --> ['Varun', 'Kumar', 3.14, 3]\n",
      "\n",
      "After Adding \"Rahul\" --> ['Varun', 'Kumar', 3.14, 3, 'Sonal']\n",
      "After Adding \"Anmol\" --> ['Varun', 'Kumar', 3.14, 3, 'Sonal', 'Singh']\n"
     ]
    }
   ],
   "source": [
    "#------------------------------------------------------------------------\n",
    "# 1.6: Adding element to list using append()\n",
    "#------------------------------------------------------------------------\n",
    "L =[\"Varun\", 'Kumar', 3.14, 3]\n",
    "print (\"L -->\", L)\n",
    "\n",
    "print (\"\")\n",
    "L.append(\"Sonal\")                 # Add element at last\n",
    "print ('After Adding \"Rahul\" -->', L)\n",
    "\n",
    "L.append(\"Singh\")                 # Add element at last\n",
    "print ('After Adding \"Anmol\" -->', L)\n"
   ]
  },
  {
   "cell_type": "markdown",
   "metadata": {
    "id": "VHwGrhdMaF9J"
   },
   "source": [
    "### 1.7: Inserting element in list using insert()"
   ]
  },
  {
   "cell_type": "code",
   "execution_count": 10,
   "metadata": {
    "id": "J_pqATFKaF9K",
    "outputId": "d8d8b95e-661f-442f-b2cb-a15fbe2596f5"
   },
   "outputs": [
    {
     "name": "stdout",
     "output_type": "stream",
     "text": [
      "L --> ['Varun', 'Kumar', 3.14, 3]\n",
      "\n",
      "After Insertion 'Rahul'   --> ['Varun', 'Kumar', 'Rahul', 3.14, 3]\n",
      "After Insertion 'Thapar'  --> ['Varun', 'Kumar', 'Rahul', 3.14, 3, 'Thapar']\n",
      "After Insertion 'SIH'     --> ['Varun', 'Kumar', 'Rahul', 3.14, 3, 'SIH', 'Thapar']\n",
      "After Insertion 'Sanchit' --> ['Varun', 'Kumar', 'Rahul', 3.14, 3, 'SIH', 'Thapar', 'Sanchit']\n"
     ]
    }
   ],
   "source": [
    "#------------------------------------------------------------------------\n",
    "# 1.7: Inserting element in list using insert()\n",
    "#------------------------------------------------------------------------\n",
    "L = [\"Varun\", 'Kumar', 3.14, 3]\n",
    "print (\"L -->\", L)\n",
    "\n",
    "print (\"\")\n",
    "L.insert(2, \"Rahul\")                        # Insert element at 2\n",
    "print (\"After Insertion 'Rahul'   -->\", L)\n",
    "\n",
    "L.insert(len(L), \"Thapar\")                  # Insert element at last\n",
    "print (\"After Insertion 'Thapar'  -->\", L)           \n",
    "\n",
    "L.insert(-1, \"SIH\")                         # Insert element at -1  \n",
    "print (\"After Insertion 'SIH'     -->\", L)           \n",
    "\n",
    "L.insert(10, \"Sanchit\")                     # No error; Element will be added at last\n",
    "print (\"After Insertion 'Sanchit' -->\", L)\n"
   ]
  },
  {
   "cell_type": "markdown",
   "metadata": {
    "id": "FDqf1kVcaF9L"
   },
   "source": [
    "### 1.8: Add multiple elements to list using extend()\n",
    "The .append() method increases the length of the list by one, so if you want to add only one element to the list, you can use this method.\n",
    "The .extend() method increases the length of the list by the number of elements that are provided to the method, so if you want to add multiple elements to the list, you can use this method."
   ]
  },
  {
   "cell_type": "code",
   "execution_count": 11,
   "metadata": {
    "id": "vkXyLfNvaF9M",
    "outputId": "ea519197-9e36-4e51-b76a-17a637fba4ec"
   },
   "outputs": [
    {
     "name": "stdout",
     "output_type": "stream",
     "text": [
      "L --> ['Varun', 'Kumar', 3.14, 3]\n",
      "\n",
      "After Adding 'Rahul' --> ['Varun', 'Kumar', 3.14, 3, 'R', 'a', 'h', 'u', 'l']\n"
     ]
    }
   ],
   "source": [
    "#------------------------------------------------------------------------\n",
    "# 1.8: Add multiple elements to list using extend()\n",
    "#------------------------------------------------------------------------\n",
    "# Example 1\n",
    "L = [\"Varun\", 'Kumar', 3.14, 3]\n",
    "print (\"L -->\", L)\n",
    "\n",
    "print (\"\")\n",
    "L.extend(\"Rahul\")                          # Add element at last\n",
    "print (\"After Adding 'Rahul' -->\", L)\n"
   ]
  },
  {
   "cell_type": "code",
   "execution_count": 12,
   "metadata": {
    "id": "irzNJXxgaF9N",
    "outputId": "8a3c8171-3d9f-44b7-b37b-3efea1234274"
   },
   "outputs": [
    {
     "name": "stdout",
     "output_type": "stream",
     "text": [
      "L --> ['Varun', 'Kumar', 3.14, 3]\n",
      "\n",
      "After Adding 'Rahul' --> ['Varun', 'Kumar', 3.14, 3, 'Rahul']\n"
     ]
    }
   ],
   "source": [
    "# Example 2\n",
    "L = [\"Varun\", 'Kumar', 3.14, 3]\n",
    "print (\"L -->\", L)\n",
    "\n",
    "print (\"\")\n",
    "L.extend([\"Rahul\"])                        # Add element at last\n",
    "print (\"After Adding 'Rahul' -->\", L)\n"
   ]
  },
  {
   "cell_type": "code",
   "execution_count": 13,
   "metadata": {
    "id": "k9c4O5LCaF9O"
   },
   "outputs": [
    {
     "name": "stdout",
     "output_type": "stream",
     "text": [
      "L  --> ['Varun', 'Kumar', 3.14, 3]\n",
      "L1 --> ['Rahul', 'Thapar', 100, 200]\n",
      "\n",
      "After Adding to L --> ['Varun', 'Kumar', 3.14, 3, 'Rahul', 'Thapar', 100, 200]\n"
     ]
    }
   ],
   "source": [
    "# Example 3\n",
    "L = [\"Varun\", 'Kumar', 3.14, 3]\n",
    "L1 = [\"Rahul\", \"Thapar\", 100, 200]\n",
    "print (\"L  -->\", L)\n",
    "print (\"L1 -->\", L1)\n",
    "\n",
    "print (\"\")\n",
    "L.extend(L1)    # Add element at last\n",
    "print (\"After Adding to L -->\", L)\n"
   ]
  },
  {
   "cell_type": "code",
   "execution_count": 14,
   "metadata": {
    "id": "wQY6Bj9HaF9P",
    "outputId": "4ad26ca4-4064-4bba-9c48-cdcf278b2441"
   },
   "outputs": [
    {
     "name": "stdout",
     "output_type": "stream",
     "text": [
      "L --> ['Varun', 'Kumar', 3.14, 3]\n",
      "\n",
      "After Adding L --> ['Varun', 'Kumar', 3.14, 3, 'Rahul', 'Thapar', 100, 200]\n"
     ]
    }
   ],
   "source": [
    "# Example 4\n",
    "L = [\"Varun\", 'Kumar', 3.14, 3]\n",
    "print (\"L -->\", L)\n",
    "\n",
    "print (\"\")\n",
    "L.extend([\"Rahul\", \"Thapar\", 100, 200])    # Add element at last\n",
    "print (\"After Adding L -->\", L)\n"
   ]
  },
  {
   "cell_type": "markdown",
   "metadata": {
    "id": "RxidCgGtaF9P"
   },
   "source": [
    "### 1.9: Deleting item from list using del"
   ]
  },
  {
   "cell_type": "code",
   "execution_count": 15,
   "metadata": {
    "id": "FrO6i_xlaF9Q",
    "outputId": "2eb9e87c-c19a-419b-c078-7e93d4fa1b58"
   },
   "outputs": [
    {
     "name": "stdout",
     "output_type": "stream",
     "text": [
      "L                   --> ['Varun', 'Kumar', 3.14, 3, 6, 7, 8]\n",
      "Delete element at 1 --> ['Varun', 3.14, 3, 6, 7, 8]\n",
      "Delete element at 1 --> ['Varun', 3, 6, 7, 8]\n",
      "Delete element at -1--> ['Varun', 3, 6, 7]\n"
     ]
    },
    {
     "ename": "IndexError",
     "evalue": "list assignment index out of range",
     "output_type": "error",
     "traceback": [
      "\u001b[1;31m---------------------------------------------------------------------------\u001b[0m",
      "\u001b[1;31mIndexError\u001b[0m                                Traceback (most recent call last)",
      "Input \u001b[1;32mIn [15]\u001b[0m, in \u001b[0;36m<cell line: 16>\u001b[1;34m()\u001b[0m\n\u001b[0;32m     13\u001b[0m \u001b[38;5;28;01mdel\u001b[39;00m L[\u001b[38;5;241m-\u001b[39m\u001b[38;5;241m1\u001b[39m]                               \u001b[38;5;66;03m# Delete last element\u001b[39;00m\n\u001b[0;32m     14\u001b[0m \u001b[38;5;28mprint\u001b[39m (\u001b[38;5;124m\"\u001b[39m\u001b[38;5;124mDelete element at -1-->\u001b[39m\u001b[38;5;124m\"\u001b[39m, L)\n\u001b[1;32m---> 16\u001b[0m \u001b[38;5;28;01mdel\u001b[39;00m L[\u001b[38;5;241m15\u001b[39m]                               \u001b[38;5;66;03m# Error; index out of range; Exception should me handle\u001b[39;00m\n\u001b[0;32m     17\u001b[0m \u001b[38;5;28mprint\u001b[39m (\u001b[38;5;124m\"\u001b[39m\u001b[38;5;124mDelete element at 15 -->\u001b[39m\u001b[38;5;124m\"\u001b[39m, L)\n",
      "\u001b[1;31mIndexError\u001b[0m: list assignment index out of range"
     ]
    }
   ],
   "source": [
    "#------------------------------------------------------------------------\n",
    "# 1.9: Deleting item from list using del\n",
    "#------------------------------------------------------------------------\n",
    "L = [\"Varun\", 'Kumar', 3.14, 3, 6, 7, 8]\n",
    "print (\"L                   -->\", L)\n",
    "\n",
    "del L[1]                                # Delete element at 1\n",
    "print (\"Delete element at 1 -->\", L)\n",
    "\n",
    "del L[1]                                # Delete element at 1\n",
    "print (\"Delete element at 1 -->\", L)\n",
    "\n",
    "del L[-1]                               # Delete last element\n",
    "print (\"Delete element at -1-->\", L)\n",
    "\n",
    "del L[15]                               # Error; index out of range; Exception should me handle\n",
    "print (\"Delete element at 15 -->\", L)\n",
    "\n",
    "\n",
    "# Multiple elements cannot be remove using del\n"
   ]
  },
  {
   "cell_type": "markdown",
   "metadata": {
    "id": "zQ7nBjGhaF9R"
   },
   "source": [
    "### 1.10: Deleting from list using remove()"
   ]
  },
  {
   "cell_type": "code",
   "execution_count": 16,
   "metadata": {
    "id": "f6c1ZloiaF9R",
    "outputId": "18eadb2c-f1eb-4fd7-c75b-31186f9043eb"
   },
   "outputs": [
    {
     "name": "stdout",
     "output_type": "stream",
     "text": [
      "L                --> ['Varun', 'Kumar', 3.14, 3, 6, 7, 8]\n",
      "Remove element 3 --> ['Varun', 'Kumar', 3.14, 6, 7, 8]\n",
      "Remove element 6 --> ['Varun', 'Kumar', 3.14, 7, 8]\n"
     ]
    },
    {
     "ename": "ValueError",
     "evalue": "list.remove(x): x not in list",
     "output_type": "error",
     "traceback": [
      "\u001b[1;31m---------------------------------------------------------------------------\u001b[0m",
      "\u001b[1;31mValueError\u001b[0m                                Traceback (most recent call last)",
      "Input \u001b[1;32mIn [16]\u001b[0m, in \u001b[0;36m<cell line: 13>\u001b[1;34m()\u001b[0m\n\u001b[0;32m     10\u001b[0m L\u001b[38;5;241m.\u001b[39mremove(\u001b[38;5;241m6\u001b[39m)                             \u001b[38;5;66;03m# Remove element 6\u001b[39;00m\n\u001b[0;32m     11\u001b[0m \u001b[38;5;28mprint\u001b[39m (\u001b[38;5;124m\"\u001b[39m\u001b[38;5;124mRemove element 6 -->\u001b[39m\u001b[38;5;124m\"\u001b[39m, L)\n\u001b[1;32m---> 13\u001b[0m \u001b[43mL\u001b[49m\u001b[38;5;241;43m.\u001b[39;49m\u001b[43mremove\u001b[49m\u001b[43m(\u001b[49m\u001b[38;5;241;43m9\u001b[39;49m\u001b[43m)\u001b[49m                             \u001b[38;5;66;03m# Remove element 9 \u001b[39;00m\n\u001b[0;32m     14\u001b[0m \u001b[38;5;28mprint\u001b[39m (\u001b[38;5;124m\"\u001b[39m\u001b[38;5;124mDelete element at 9 -->\u001b[39m\u001b[38;5;124m\"\u001b[39m, L)\n",
      "\u001b[1;31mValueError\u001b[0m: list.remove(x): x not in list"
     ]
    }
   ],
   "source": [
    "#------------------------------------------------------------------------\n",
    "# 1.10: Deleting from list using remove() using value\n",
    "#------------------------------------------------------------------------\n",
    "L = [\"Varun\", 'Kumar', 3.14, 3, 6, 7, 8]\n",
    "print (\"L                -->\", L)\n",
    "\n",
    "L.remove(3)                             # Remove element 3\n",
    "print (\"Remove element 3 -->\", L)\n",
    "\n",
    "L.remove(6)                             # Remove element 6\n",
    "print (\"Remove element 6 -->\", L)\n",
    "\n",
    "L.remove(9)                             # Remove element 9 \n",
    "print (\"Delete element at 9 -->\", L)    # Error; 9 is not present in L\n",
    "\n",
    "# Multiple elements cannot be remove using remove\n"
   ]
  },
  {
   "cell_type": "markdown",
   "metadata": {
    "id": "69_jtPb-aF9T"
   },
   "source": [
    "### 1.11: Deleting from list using pop()"
   ]
  },
  {
   "cell_type": "code",
   "execution_count": 17,
   "metadata": {
    "id": "4jnxNriXaF9T",
    "outputId": "f90cac99-7784-4365-ffe8-3e08449d2428"
   },
   "outputs": [
    {
     "name": "stdout",
     "output_type": "stream",
     "text": [
      "List           --> ['A', 'B', 'C', 'D']\n",
      "1. After pop   --> ['A', 'B', 'C']\n",
      "2. After pop(1)--> ['A', 'C']\n",
      "3. After pop   --> ['A']\n",
      "4. After pop   --> []\n"
     ]
    },
    {
     "ename": "IndexError",
     "evalue": "pop from empty list",
     "output_type": "error",
     "traceback": [
      "\u001b[1;31m---------------------------------------------------------------------------\u001b[0m",
      "\u001b[1;31mIndexError\u001b[0m                                Traceback (most recent call last)",
      "Input \u001b[1;32mIn [17]\u001b[0m, in \u001b[0;36m<cell line: 21>\u001b[1;34m()\u001b[0m\n\u001b[0;32m     18\u001b[0m L\u001b[38;5;241m.\u001b[39mpop()                         \u001b[38;5;66;03m# Delete last element\u001b[39;00m\n\u001b[0;32m     19\u001b[0m \u001b[38;5;28mprint\u001b[39m (\u001b[38;5;124m\"\u001b[39m\u001b[38;5;124m4. After pop   -->\u001b[39m\u001b[38;5;124m\"\u001b[39m, L)\n\u001b[1;32m---> 21\u001b[0m \u001b[43mL\u001b[49m\u001b[38;5;241;43m.\u001b[39;49m\u001b[43mpop\u001b[49m\u001b[43m(\u001b[49m\u001b[43m)\u001b[49m                         \u001b[38;5;66;03m# Error; List is empty; Underflow\u001b[39;00m\n\u001b[0;32m     22\u001b[0m \u001b[38;5;28mprint\u001b[39m (\u001b[38;5;124m\"\u001b[39m\u001b[38;5;124m5. After pop   -->\u001b[39m\u001b[38;5;124m\"\u001b[39m, L)\n",
      "\u001b[1;31mIndexError\u001b[0m: pop from empty list"
     ]
    }
   ],
   "source": [
    "#------------------------------------------------------------------------\n",
    "# 1.11: Deleting from list using pop()\n",
    "#------------------------------------------------------------------------\n",
    "# Pop: Delete last element from list\n",
    "\n",
    "L = ['A', 'B', 'C', 'D']\n",
    "print (\"List           -->\", L)\n",
    "\n",
    "L.pop()                         # Delete last element\n",
    "print (\"1. After pop   -->\", L)\n",
    "\n",
    "L.pop(1)                        # Delete element of location 1\n",
    "print (\"2. After pop(1)-->\", L)\n",
    "\n",
    "L.pop()                         # Delete last element\n",
    "print (\"3. After pop   -->\", L)\n",
    "\n",
    "L.pop()                         # Delete last element\n",
    "print (\"4. After pop   -->\", L)\n",
    "\n",
    "L.pop()                         # Error; List is empty; Underflow\n",
    "print (\"5. After pop   -->\", L)\n",
    "\n",
    "#Note: If list is empty, pop() will raise an exception\n"
   ]
  },
  {
   "cell_type": "markdown",
   "metadata": {
    "id": "cniSuWiVaF9V"
   },
   "source": [
    "### 1.12: Deleting list"
   ]
  },
  {
   "cell_type": "code",
   "execution_count": 18,
   "metadata": {
    "id": "8bXO5KFQaF9W",
    "outputId": "1f902e6d-fc01-4306-8c60-99df29b3bee3"
   },
   "outputs": [
    {
     "name": "stdout",
     "output_type": "stream",
     "text": [
      "List           --> ['A', 'B', 'C', 'D']\n"
     ]
    },
    {
     "ename": "NameError",
     "evalue": "name 'L' is not defined",
     "output_type": "error",
     "traceback": [
      "\u001b[1;31m---------------------------------------------------------------------------\u001b[0m",
      "\u001b[1;31mNameError\u001b[0m                                 Traceback (most recent call last)",
      "Input \u001b[1;32mIn [18]\u001b[0m, in \u001b[0;36m<cell line: 13>\u001b[1;34m()\u001b[0m\n\u001b[0;32m     10\u001b[0m \u001b[38;5;28mprint\u001b[39m (\u001b[38;5;124m\"\u001b[39m\u001b[38;5;124mList           -->\u001b[39m\u001b[38;5;124m\"\u001b[39m, L)\n\u001b[0;32m     12\u001b[0m \u001b[38;5;28;01mdel\u001b[39;00m L                        \u001b[38;5;66;03m# Delete List\u001b[39;00m\n\u001b[1;32m---> 13\u001b[0m \u001b[38;5;28mprint\u001b[39m (\u001b[38;5;124m\"\u001b[39m\u001b[38;5;124mList           -->\u001b[39m\u001b[38;5;124m\"\u001b[39m, \u001b[43mL\u001b[49m)\n",
      "\u001b[1;31mNameError\u001b[0m: name 'L' is not defined"
     ]
    }
   ],
   "source": [
    "#------------------------------------------------------------------------\n",
    "# 1.12: Deleting list\n",
    "#------------------------------------------------------------------------\n",
    "# del is a keyword and remove(), pop() are in-built methods.\n",
    "# The purpose of these three are same but the behavior is different\n",
    "# remove() method delete values or object from the list using value \n",
    "# del and pop() deletes values or object from the list using an index.\n",
    "\n",
    "L = ['A', 'B', 'C', 'D']\n",
    "print (\"List           -->\", L)\n",
    "\n",
    "del L                        # Delete List\n",
    "print (\"List           -->\", L)\n"
   ]
  },
  {
   "cell_type": "markdown",
   "metadata": {
    "id": "JEvX60bQaF9W"
   },
   "source": [
    "### 1.13: Sum/Average of List"
   ]
  },
  {
   "cell_type": "code",
   "execution_count": 19,
   "metadata": {
    "id": "Zvo05sFDaF9X",
    "outputId": "6ecd46ab-eab3-4171-d6a1-316f39aead3d"
   },
   "outputs": [
    {
     "name": "stdout",
     "output_type": "stream",
     "text": [
      "L       --> [3, 6, 9, 12, 5, 3, 2]\n",
      "Sum     --> 40\n",
      "Average --> 5.714285714285714\n",
      "Average --> 5\n"
     ]
    }
   ],
   "source": [
    "#------------------------------------------------------------------------\n",
    "# 1.13: Sum/Average of List\n",
    "#------------------------------------------------------------------------\n",
    "L = [3, 6, 9, 12, 5, 3, 2]\n",
    "\n",
    "print (\"L       -->\", L)\n",
    "print (\"Sum     -->\", sum(L))\n",
    "print (\"Average -->\", sum(L)/len(L))\n",
    "print (\"Average -->\", sum(L)//len(L))\n"
   ]
  },
  {
   "cell_type": "markdown",
   "metadata": {
    "id": "SWY7jdCnaF9Y"
   },
   "source": [
    "### 1.14: Min/Max in the list"
   ]
  },
  {
   "cell_type": "code",
   "execution_count": 20,
   "metadata": {
    "id": "njVTmzyNaF9Y",
    "outputId": "1b0167f5-918e-4862-857a-169c25cb8c5a"
   },
   "outputs": [
    {
     "name": "stdout",
     "output_type": "stream",
     "text": [
      "L   --> [3, 6, 9, 12, 5, 3, 2]\n",
      "Max --> 12\n",
      "Min --> 2\n"
     ]
    }
   ],
   "source": [
    "#------------------------------------------------------------------------\n",
    "# 1.14: Min/Max in the list\n",
    "#------------------------------------------------------------------------\n",
    "# Example 1\n",
    "L = [3, 6, 9, 12, 5, 3, 2]                # Integer List\n",
    "print (\"L   -->\", L)\n",
    "print (\"Max -->\", max(L))\n",
    "print (\"Min -->\", min(L))\n"
   ]
  },
  {
   "cell_type": "code",
   "execution_count": 21,
   "metadata": {
    "id": "d4adOd61aF9Z",
    "outputId": "dd9e2f77-0a1e-4dd3-cffa-a0b57545376a"
   },
   "outputs": [
    {
     "name": "stdout",
     "output_type": "stream",
     "text": [
      "L   --> ['Ram', 'Shyam', 'Human', 'Ant']\n",
      "Max --> Shyam\n",
      "Min --> Ant\n"
     ]
    }
   ],
   "source": [
    "# Example 2\n",
    "L = [\"Ram\", \"Shyam\", \"Human\", \"Ant\"]      # String List\n",
    "print (\"L   -->\", L)\n",
    "print (\"Max -->\", max(L))\n",
    "print (\"Min -->\", min(L))\n"
   ]
  },
  {
   "cell_type": "code",
   "execution_count": 22,
   "metadata": {
    "id": "9fRR3SsZaF9a",
    "outputId": "eaf6e0df-aeeb-4acd-ceb7-2db1c4fd3e00"
   },
   "outputs": [
    {
     "name": "stdout",
     "output_type": "stream",
     "text": [
      "L   --> ['Ram', 'Shyam', 10, 30]\n"
     ]
    },
    {
     "ename": "TypeError",
     "evalue": "'>' not supported between instances of 'int' and 'str'",
     "output_type": "error",
     "traceback": [
      "\u001b[1;31m---------------------------------------------------------------------------\u001b[0m",
      "\u001b[1;31mTypeError\u001b[0m                                 Traceback (most recent call last)",
      "Input \u001b[1;32mIn [22]\u001b[0m, in \u001b[0;36m<cell line: 4>\u001b[1;34m()\u001b[0m\n\u001b[0;32m      2\u001b[0m L \u001b[38;5;241m=\u001b[39m [\u001b[38;5;124m\"\u001b[39m\u001b[38;5;124mRam\u001b[39m\u001b[38;5;124m\"\u001b[39m, \u001b[38;5;124m\"\u001b[39m\u001b[38;5;124mShyam\u001b[39m\u001b[38;5;124m\"\u001b[39m, \u001b[38;5;241m10\u001b[39m, \u001b[38;5;241m30\u001b[39m]              \u001b[38;5;66;03m# Mixed List\u001b[39;00m\n\u001b[0;32m      3\u001b[0m \u001b[38;5;28mprint\u001b[39m (\u001b[38;5;124m\"\u001b[39m\u001b[38;5;124mL   -->\u001b[39m\u001b[38;5;124m\"\u001b[39m, L)\n\u001b[1;32m----> 4\u001b[0m \u001b[38;5;28mprint\u001b[39m (\u001b[38;5;124m\"\u001b[39m\u001b[38;5;124mMax -->\u001b[39m\u001b[38;5;124m\"\u001b[39m, \u001b[38;5;28;43mmax\u001b[39;49m\u001b[43m(\u001b[49m\u001b[43mL\u001b[49m\u001b[43m)\u001b[49m)                \u001b[38;5;66;03m#Error; Exception should me handle\u001b[39;00m\n\u001b[0;32m      5\u001b[0m \u001b[38;5;28mprint\u001b[39m (\u001b[38;5;124m\"\u001b[39m\u001b[38;5;124mMin -->\u001b[39m\u001b[38;5;124m\"\u001b[39m, \u001b[38;5;28mmin\u001b[39m(L))\n",
      "\u001b[1;31mTypeError\u001b[0m: '>' not supported between instances of 'int' and 'str'"
     ]
    }
   ],
   "source": [
    "# Example 3\n",
    "L = [\"Ram\", \"Shyam\", 10, 30]              # Mixed List\n",
    "print (\"L   -->\", L)\n",
    "print (\"Max -->\", max(L))                #Error; Exception should me handle\n",
    "print (\"Min -->\", min(L))\n",
    "\n",
    "## Assingment: Solve this issue"
   ]
  },
  {
   "cell_type": "markdown",
   "metadata": {
    "id": "7WoBM3jJaF9b"
   },
   "source": [
    "### 1.15: Sort the of List using sort()"
   ]
  },
  {
   "cell_type": "code",
   "execution_count": 23,
   "metadata": {
    "id": "F96GApqgaF9c",
    "outputId": "c6dc3705-895e-4dfd-f93c-3ebccb2df990"
   },
   "outputs": [
    {
     "name": "stdout",
     "output_type": "stream",
     "text": [
      "L                     --> [3, 6, 9, 12, 5, 3, 2]\n",
      "After Sort (Asending) --> [2, 3, 3, 5, 6, 9, 12]\n"
     ]
    }
   ],
   "source": [
    "#------------------------------------------------------------------------\n",
    "# 1.15: Sort the of List using sort()\n",
    "#------------------------------------------------------------------------\n",
    "#Example 1\n",
    "L = [3, 6, 9, 12, 5, 3, 2]\n",
    "print (\"L                     -->\", L)\n",
    "\n",
    "L.sort()                       # Sort in asending order and save back to L\n",
    "print (\"After Sort (Asending) -->\", L)\n"
   ]
  },
  {
   "cell_type": "code",
   "execution_count": 24,
   "metadata": {
    "id": "0IUDo-3kaF9c",
    "outputId": "b48310c0-79d0-4260-fa72-682a5a6f9e18"
   },
   "outputs": [
    {
     "name": "stdout",
     "output_type": "stream",
     "text": [
      "L                     --> [3, 6, 9, 12, 5, 3, 2]\n",
      "After Sort (Desending)--> [12, 9, 6, 5, 3, 3, 2]\n"
     ]
    }
   ],
   "source": [
    "#Example 2\n",
    "L = [3, 6, 9, 12, 5, 3, 2]\n",
    "print (\"L                     -->\", L)\n",
    "\n",
    "L.sort(reverse = True)         # Sort in decending order and save to L\n",
    "print (\"After Sort (Desending)-->\", L)\n"
   ]
  },
  {
   "cell_type": "markdown",
   "metadata": {
    "id": "aXk8jXylaF9d"
   },
   "source": [
    "### 1.16: Sort the of List using sorted()"
   ]
  },
  {
   "cell_type": "code",
   "execution_count": 25,
   "metadata": {
    "id": "CPrVj8VvaF9e",
    "outputId": "240e597e-21fc-4cd5-97d9-ac2d9f3e3d95"
   },
   "outputs": [
    {
     "name": "stdout",
     "output_type": "stream",
     "text": [
      "L               --> [3, 6, 9, 12, 5, 3, 2]\n",
      "After sorted()) --> [3, 6, 9, 12, 5, 3, 2]\n",
      "[2, 3, 3, 5, 6, 9, 12]\n"
     ]
    }
   ],
   "source": [
    "#------------------------------------------------------------------------\n",
    "# 1.16: Sort the of List using sorted()\n",
    "#------------------------------------------------------------------------\n",
    "# Example 1\n",
    "L = [3, 6, 9, 12, 5, 3, 2]\n",
    "print (\"L               -->\", L)\n",
    "\n",
    "L1= sorted(L)                       # No Change in L\n",
    "print (\"After sorted()) -->\", L)\n",
    "print(L1)\n",
    "\n"
   ]
  },
  {
   "cell_type": "code",
   "execution_count": 26,
   "metadata": {
    "id": "UNQzJfRAaF9e",
    "outputId": "5e9c50f7-e8c0-4770-ab09-6c8047d584ee"
   },
   "outputs": [
    {
     "name": "stdout",
     "output_type": "stream",
     "text": [
      "L               --> [3, 6, 9, 12, 5, 3, 2]\n",
      "After sorted()) --> [12, 9, 6, 5, 3, 3, 2]\n"
     ]
    }
   ],
   "source": [
    "# Example 2\n",
    "L = [3, 6, 9, 12, 5, 3, 2]\n",
    "print (\"L               -->\", L)\n",
    "\n",
    "L = sorted(L,reverse = True)     # Sort in decending order and assign to L\n",
    "print (\"After sorted()) -->\", L)\n"
   ]
  },
  {
   "cell_type": "code",
   "execution_count": 27,
   "metadata": {
    "id": "DEsM-Z1UaF9f",
    "outputId": "8c25e21c-1d46-4de7-9efb-60368a53359f"
   },
   "outputs": [
    {
     "name": "stdout",
     "output_type": "stream",
     "text": [
      "L                  --> [3, 6, 9, 12, 5, 3, 2]\n",
      "L After sorted())  --> [3, 6, 9, 12, 5, 3, 2]\n",
      "L1 After sorted()) --> [2, 3, 3, 5, 6, 9, 12]\n"
     ]
    }
   ],
   "source": [
    "# Example 3\n",
    "L = [3, 6, 9, 12, 5, 3, 2]\n",
    "print (\"L                  -->\", L)\n",
    "\n",
    "L1 = sorted(L)                     # Sort in assending order but No change in L\n",
    "print (\"L After sorted())  -->\", L)\n",
    "print (\"L1 After sorted()) -->\", L1)\n"
   ]
  },
  {
   "cell_type": "markdown",
   "metadata": {
    "id": "g9zGKPahaF9g"
   },
   "source": [
    "### 1.17: Multiply the List with a number"
   ]
  },
  {
   "cell_type": "code",
   "execution_count": 28,
   "metadata": {
    "id": "Q19VVcbNaF9h",
    "outputId": "d7cd2344-266f-4e8b-ef48-bda3a84a67b1"
   },
   "outputs": [
    {
     "name": "stdout",
     "output_type": "stream",
     "text": [
      "L     --> [3, 6, 9, 12, 5, 3, 2]\n",
      "L * 1 --> [3, 6, 9, 12, 5, 3, 2]\n",
      "L * 2 --> [3, 6, 9, 12, 5, 3, 2, 3, 6, 9, 12, 5, 3, 2]\n",
      "L * 3 --> [3, 6, 9, 12, 5, 3, 2, 3, 6, 9, 12, 5, 3, 2, 3, 6, 9, 12, 5, 3, 2]\n",
      "L + L --> [3, 6, 9, 12, 5, 3, 2, 3, 6, 9, 12, 5, 3, 2]\n"
     ]
    },
    {
     "ename": "TypeError",
     "evalue": "can't multiply sequence by non-int of type 'list'",
     "output_type": "error",
     "traceback": [
      "\u001b[1;31m---------------------------------------------------------------------------\u001b[0m",
      "\u001b[1;31mTypeError\u001b[0m                                 Traceback (most recent call last)",
      "Input \u001b[1;32mIn [28]\u001b[0m, in \u001b[0;36m<cell line: 10>\u001b[1;34m()\u001b[0m\n\u001b[0;32m      8\u001b[0m \u001b[38;5;28mprint\u001b[39m (\u001b[38;5;124m\"\u001b[39m\u001b[38;5;124mL * 3 -->\u001b[39m\u001b[38;5;124m\"\u001b[39m, L \u001b[38;5;241m*\u001b[39m \u001b[38;5;241m3\u001b[39m)\n\u001b[0;32m      9\u001b[0m \u001b[38;5;28mprint\u001b[39m (\u001b[38;5;124m\"\u001b[39m\u001b[38;5;124mL + L -->\u001b[39m\u001b[38;5;124m\"\u001b[39m, L \u001b[38;5;241m+\u001b[39m L)\n\u001b[1;32m---> 10\u001b[0m \u001b[38;5;28mprint\u001b[39m (\u001b[38;5;124m\"\u001b[39m\u001b[38;5;124mL * L -->\u001b[39m\u001b[38;5;124m\"\u001b[39m, \u001b[43mL\u001b[49m\u001b[43m \u001b[49m\u001b[38;5;241;43m*\u001b[39;49m\u001b[43m \u001b[49m\u001b[43mL\u001b[49m)\n",
      "\u001b[1;31mTypeError\u001b[0m: can't multiply sequence by non-int of type 'list'"
     ]
    }
   ],
   "source": [
    "#------------------------------------------------------------------------\n",
    "# 1.17: Multiply the List with a number\n",
    "#------------------------------------------------------------------------\n",
    "L = [3, 6, 9, 12, 5, 3, 2]\n",
    "print (\"L     -->\", L)\n",
    "print (\"L * 1 -->\", L * 1)\n",
    "print (\"L * 2 -->\", L * 2)\n",
    "print (\"L * 3 -->\", L * 3)\n",
    "print (\"L + L -->\", L + L)\n",
    "print (\"L * L -->\", L * L)       # Error; Exception should me handle\n"
   ]
  },
  {
   "cell_type": "markdown",
   "metadata": {
    "id": "JI3rTZHBaF9i"
   },
   "source": [
    "### 1.18: Increment the every element of List by n"
   ]
  },
  {
   "cell_type": "code",
   "execution_count": 29,
   "metadata": {
    "id": "mW8JDBmXaF9i",
    "outputId": "b4ae75dc-83f1-4b27-b202-47be98faf63d"
   },
   "outputs": [
    {
     "name": "stdout",
     "output_type": "stream",
     "text": [
      "L1 --> [3, 6, 9, 12, 5, 3, 2]\n",
      "L2 --> [13, 16, 19, 22, 15, 13, 12]\n"
     ]
    }
   ],
   "source": [
    "#------------------------------------------------------------------------\n",
    "# 1.18: Increment the every element of List by n\n",
    "#------------------------------------------------------------------------\n",
    "# Example 1\n",
    "L1 = [3, 6, 9, 12, 5, 3, 2]\n",
    "n = 10\n",
    "\n",
    "L2 = []  #empty list\n",
    "for i in L1:\n",
    "    L2.append(i + n)\n",
    "\n",
    "print (\"L1 -->\", L1)\n",
    "print (\"L2 -->\", L2)\n"
   ]
  },
  {
   "cell_type": "code",
   "execution_count": 30,
   "metadata": {
    "id": "JRi39XV5aF9j",
    "outputId": "4b595840-0393-45e7-f7a1-d89f71525869"
   },
   "outputs": [
    {
     "name": "stdout",
     "output_type": "stream",
     "text": [
      "L1 --> [3, 6, 9, 12, 5, 3, 2]\n",
      "L2 --> [13, 16, 19, 22, 15, 13, 12]\n"
     ]
    }
   ],
   "source": [
    "# Example 2\n",
    "L1 = [3, 6, 9, 12, 5, 3, 2]\n",
    "n = 10\n",
    "\n",
    "L2 = []    # Optional\n",
    "\n",
    "L2 = [ i + n for i in L1]     # L2 is re-initialized\n",
    "\n",
    "print (\"L1 -->\", L1)\n",
    "print (\"L2 -->\", L2)\n"
   ]
  },
  {
   "cell_type": "markdown",
   "metadata": {
    "id": "uMCuKp3waF9k"
   },
   "source": [
    "### 1.19: Multiply the every element of List by n"
   ]
  },
  {
   "cell_type": "code",
   "execution_count": 31,
   "metadata": {
    "id": "BV9g9MO9aF9k"
   },
   "outputs": [
    {
     "name": "stdout",
     "output_type": "stream",
     "text": [
      "L  --> [3, 6, 9, 12, 5, 3, 2]\n",
      "L1 --> [30, 60, 90, 120, 50, 30, 20]\n"
     ]
    }
   ],
   "source": [
    "#------------------------------------------------------------------------\n",
    "# 1.19: Multiply the every element of List by n\n",
    "#------------------------------------------------------------------------\n",
    "# Example 1\n",
    "L = [3, 6, 9, 12, 5, 3, 2]\n",
    "n = 10\n",
    "\n",
    "L1 = []     # Must be declare\n",
    "\n",
    "for i in L:\n",
    "    L1.append(i * n)\n",
    "\n",
    "print (\"L  -->\", L)\n",
    "print (\"L1 -->\", L1)\n"
   ]
  },
  {
   "cell_type": "code",
   "execution_count": 32,
   "metadata": {
    "id": "57PgWy6waF9m"
   },
   "outputs": [
    {
     "name": "stdout",
     "output_type": "stream",
     "text": [
      "\n",
      "L  --> [3, 6, 9, 12, 5, 3, 2]\n",
      "L1 --> [30, 60, 90, 120, 50, 30, 20]\n"
     ]
    }
   ],
   "source": [
    "# Example 2\n",
    "L = [3, 6, 9, 12, 5, 3, 2]\n",
    "n = 10\n",
    "\n",
    "L1 = []         # Optional\n",
    "\n",
    "L1 = [ i * n for i in L]      # L1 is re-initialized\n",
    "\n",
    "print (\"\")\n",
    "print (\"L  -->\", L)\n",
    "print (\"L1 -->\", L1)\n"
   ]
  },
  {
   "cell_type": "markdown",
   "metadata": {
    "id": "4C7Y1zaJaF9n"
   },
   "source": [
    "### 1.20: Generate a list of n random numbers between 1, 100"
   ]
  },
  {
   "cell_type": "code",
   "execution_count": 33,
   "metadata": {
    "id": "9vpV7D04aF9n",
    "outputId": "3ec543ce-06ca-4946-a47a-c58780cdb2bb"
   },
   "outputs": [
    {
     "name": "stdout",
     "output_type": "stream",
     "text": [
      "L --> [72, 16, 45, 82, 96, 63, 40, 71, 6, 53]\n"
     ]
    }
   ],
   "source": [
    "#------------------------------------------------------------------------\n",
    "# 1.20: Generate a list of n random numbers between 1, 100\n",
    "#------------------------------------------------------------------------\n",
    "# Example 1\n",
    "import random as r   #alias name\n",
    "#random is a package\n",
    "\n",
    "n = 10\n",
    "L = []               # Must be declare\n",
    "for i in range(n):\n",
    "    L.append(r.randint(1,100))\n",
    "    \n",
    "print (\"L -->\", L)\n"
   ]
  },
  {
   "cell_type": "code",
   "execution_count": 34,
   "metadata": {
    "id": "jCcQHsbCaF9p",
    "outputId": "7e43939c-564b-4219-8112-0295ca311add"
   },
   "outputs": [
    {
     "name": "stdout",
     "output_type": "stream",
     "text": [
      "L --> [70, 64, 67, 41, 76, 40, 87, 16]\n"
     ]
    }
   ],
   "source": [
    "# Example 2\n",
    "import random as r\n",
    "\n",
    "n = 8\n",
    "L = []            # Optional\n",
    "L = [ r.randint(1,100) for i in range(n)]\n",
    "\n",
    "print (\"L -->\", L)\n"
   ]
  },
  {
   "cell_type": "markdown",
   "metadata": {
    "id": "rzp-G0iIaF9q"
   },
   "source": [
    "### 1.21: Generate a list of n random strings of length m"
   ]
  },
  {
   "cell_type": "code",
   "execution_count": 35,
   "metadata": {
    "id": "jtAqghYOaF9q",
    "outputId": "b1c08778-11b6-4307-87b0-654ceb491377"
   },
   "outputs": [
    {
     "name": "stdout",
     "output_type": "stream",
     "text": [
      "L --> ['QPMoK', 'ykNiT', 'sdEkc', 'zYAiy', 'FVtgv', 'fHuhR', 'mcaSb', 'ABbdg', 'eNUDI', 'vsnLx']\n"
     ]
    }
   ],
   "source": [
    "#------------------------------------------------------------------------\n",
    "# 1.21: Generate a list of n random strings of length m\n",
    "#------------------------------------------------------------------------\n",
    "# Example 1\n",
    "import random as r\n",
    "import string as s #string is another module\n",
    "\n",
    "n = 10\n",
    "m = 5\n",
    "\n",
    "L = []         # Must be declare\n",
    "for i in range(n):\n",
    "    L.append(\"\".join(r.sample(s.ascii_letters, m)))\n",
    "    \n",
    "print (\"L -->\", L)\n"
   ]
  },
  {
   "cell_type": "code",
   "execution_count": 36,
   "metadata": {
    "id": "5CRtAC6MaF9r",
    "outputId": "015f3c23-8587-4cb0-bf6f-7cbddbe1c357"
   },
   "outputs": [
    {
     "name": "stdout",
     "output_type": "stream",
     "text": [
      "L --> ['eZWoC', 'nrDdl', 'wBDio', 'heKZc', 'qWrvN', 'uWjMF', 'zXQni', 'piLFn', 'KrCTN', 'VINYL']\n"
     ]
    }
   ],
   "source": [
    "# Example 2\n",
    "import random as r\n",
    "import string as s\n",
    "\n",
    "n = 10\n",
    "m = 5\n",
    "\n",
    "L = []          # Optional\n",
    "L = [ \"\".join(r.sample(s.ascii_letters, m)) for i in range(n)]\n",
    "\n",
    "print (\"L -->\", L)\n"
   ]
  },
  {
   "cell_type": "markdown",
   "metadata": {
    "id": "HPwha88IaF9s"
   },
   "source": [
    "### 1.22: Generate a list of n random strings of variable length (5, 10)"
   ]
  },
  {
   "cell_type": "code",
   "execution_count": 37,
   "metadata": {
    "id": "xeOLoN7caF9s",
    "outputId": "98ca1348-1eb3-4d25-95ef-574eb3fb7808"
   },
   "outputs": [
    {
     "name": "stdout",
     "output_type": "stream",
     "text": [
      "List --> ['ZQkwHNTa', 'QMqcRV', 'rfudFMh', 'FvuHwGkEn', 'FwPuJRiYQs']\n"
     ]
    }
   ],
   "source": [
    "#------------------------------------------------------------------------\n",
    "# 1.22: Generate a list of n random strings of variable length (5, 10)\n",
    "#------------------------------------------------------------------------\n",
    "# Example 1\n",
    "import random as r\n",
    "import string as s\n",
    "\n",
    "n = 5\n",
    "\n",
    "L = []         # Must be declare\n",
    "for i in range(n): #upto 5 times\n",
    "    L.append(\"\".join(r.sample(s.ascii_letters, r.randint(5,10))))\n",
    "    \n",
    "print (\"List -->\", L)\n"
   ]
  },
  {
   "cell_type": "code",
   "execution_count": 38,
   "metadata": {
    "id": "i_fhAxFAaF9t",
    "outputId": "13613af1-da71-4c64-92af-06ad11898123"
   },
   "outputs": [
    {
     "name": "stdout",
     "output_type": "stream",
     "text": [
      "List --> ['CwtMSR', 'KaRmQ', 'CMaFe', 'LNwKDEUjf', 'gvXJRZ']\n"
     ]
    }
   ],
   "source": [
    "# Example 2\n",
    "import random as r\n",
    "import string as s\n",
    "\n",
    "n = 5\n",
    "\n",
    "L = []         # Optional\n",
    "L = [ \"\".join(r.sample(s.ascii_letters, r.randint(5,10))) for i in range(n)]\n",
    "\n",
    "print (\"List -->\", L)"
   ]
  },
  {
   "cell_type": "markdown",
   "metadata": {
    "id": "CKHIMO51aF9u"
   },
   "source": [
    "### 1.23: Searching in the list"
   ]
  },
  {
   "cell_type": "code",
   "execution_count": 39,
   "metadata": {
    "id": "KZM1lo6faF9u",
    "outputId": "1717acb7-f625-4c42-c069-d29f4744617d"
   },
   "outputs": [
    {
     "name": "stdout",
     "output_type": "stream",
     "text": [
      "L       --> [3, 6, 9, 12, 5, 3, 2]\n",
      "\n",
      "6  in L --> True\n",
      "10 in L --> False\n",
      "12 in L --> True\n"
     ]
    }
   ],
   "source": [
    "#------------------------------------------------------------------------\n",
    "# 1.23: Searching in the list\n",
    "#------------------------------------------------------------------------\n",
    "L = [3, 6, 9, 12, 5, 3, 2]\n",
    "print (\"L       -->\", L)\n",
    "\n",
    "print (\"\")\n",
    "print (\"6  in L -->\", 6 in L)  #item in List name\n",
    "print (\"10 in L -->\", 10 in L)\n",
    "print (\"12 in L -->\", 12 in L)\n"
   ]
  },
  {
   "cell_type": "markdown",
   "metadata": {
    "id": "9iBGo6rRaF9v"
   },
   "source": [
    "### 1.24: Merging lists"
   ]
  },
  {
   "cell_type": "code",
   "execution_count": 40,
   "metadata": {
    "id": "jXTZlWWZaF9v",
    "outputId": "964a6a95-8309-4262-aa4a-b43c9cafc745"
   },
   "outputs": [
    {
     "name": "stdout",
     "output_type": "stream",
     "text": [
      "L1 --> [3, 6, 9]\n",
      "L2 --> [12, 5, 3, 2]\n",
      "L3 --> [3, 6, 9, 12, 5, 3, 2]\n",
      "L4 --> [3, 6, 9, 12, 5, 3, 2, 3, 6, 9, 12, 5, 3, 2]\n"
     ]
    }
   ],
   "source": [
    "#------------------------------------------------------------------------\n",
    "# 1.24: Merging lists\n",
    "#------------------------------------------------------------------------\n",
    "L1 = [3, 6, 9]\n",
    "L2 = [12, 5, 3, 2]\n",
    "\n",
    "print (\"L1 -->\", L1)\n",
    "print (\"L2 -->\", L2)\n",
    "\n",
    "L3 = L1 + L2\n",
    "print (\"L3 -->\", L3)\n",
    "\n",
    "L4 = L1 + L2 + L1 + L2\n",
    "print (\"L4 -->\", L4)\n"
   ]
  },
  {
   "cell_type": "markdown",
   "metadata": {
    "id": "tNoSO4edaF9x"
   },
   "source": [
    "### 1.25: Merging part of lists"
   ]
  },
  {
   "cell_type": "code",
   "execution_count": 41,
   "metadata": {
    "id": "rslwxdtiaF9x",
    "outputId": "da57b7f6-317a-4f90-d313-e51c689356d2"
   },
   "outputs": [
    {
     "name": "stdout",
     "output_type": "stream",
     "text": [
      "L1 --> [3, 6, 9]\n",
      "L2 --> [12, 5, 3, 2]\n",
      "L3 --> [6, 5, 3]\n",
      "L4 --> [3, 12]\n"
     ]
    }
   ],
   "source": [
    "#------------------------------------------------------------------------\n",
    "# 1.25: Merging part of lists\n",
    "#------------------------------------------------------------------------\n",
    "L1 = [3, 6, 9]\n",
    "L2 = [12, 5, 3, 2]\n",
    "\n",
    "print (\"L1 -->\", L1)\n",
    "print (\"L2 -->\", L2)\n",
    "\n",
    "L3 = L1[1:2] + L2[1:3]    #you can use slicing in merging the list\n",
    "print (\"L3 -->\", L3)\n",
    "\n",
    "L4 = L1[:-2] + L2[:-3]\n",
    "print (\"L4 -->\", L4)\n"
   ]
  },
  {
   "cell_type": "markdown",
   "metadata": {
    "id": "6DgjzSqNaF9y"
   },
   "source": [
    "### 1.26: Get the index of an elements in List"
   ]
  },
  {
   "cell_type": "code",
   "execution_count": 42,
   "metadata": {
    "id": "1fWolILdaF9z",
    "outputId": "abd91ef5-1ab7-49d6-e30e-4d4d4ff81f22"
   },
   "outputs": [
    {
     "name": "stdout",
     "output_type": "stream",
     "text": [
      "L               --> [3, 6, 9, 12, 5, 3, 2]\n",
      "\n",
      "Index of 9 in L --> 2\n",
      "Index of 2 in L --> 6\n",
      "Index of 5 in L --> 4\n"
     ]
    },
    {
     "ename": "ValueError",
     "evalue": "7 is not in list",
     "output_type": "error",
     "traceback": [
      "\u001b[1;31m---------------------------------------------------------------------------\u001b[0m",
      "\u001b[1;31mValueError\u001b[0m                                Traceback (most recent call last)",
      "Input \u001b[1;32mIn [42]\u001b[0m, in \u001b[0;36m<cell line: 11>\u001b[1;34m()\u001b[0m\n\u001b[0;32m      9\u001b[0m \u001b[38;5;28mprint\u001b[39m (\u001b[38;5;124m\"\u001b[39m\u001b[38;5;124mIndex of 2 in L -->\u001b[39m\u001b[38;5;124m\"\u001b[39m, L\u001b[38;5;241m.\u001b[39mindex(\u001b[38;5;241m2\u001b[39m))\n\u001b[0;32m     10\u001b[0m \u001b[38;5;28mprint\u001b[39m (\u001b[38;5;124m\"\u001b[39m\u001b[38;5;124mIndex of 5 in L -->\u001b[39m\u001b[38;5;124m\"\u001b[39m, L\u001b[38;5;241m.\u001b[39mindex(\u001b[38;5;241m5\u001b[39m))\n\u001b[1;32m---> 11\u001b[0m \u001b[38;5;28mprint\u001b[39m (\u001b[38;5;124m\"\u001b[39m\u001b[38;5;124mIndex of 7 in L -->\u001b[39m\u001b[38;5;124m\"\u001b[39m, \u001b[43mL\u001b[49m\u001b[38;5;241;43m.\u001b[39;49m\u001b[43mindex\u001b[49m\u001b[43m(\u001b[49m\u001b[38;5;241;43m7\u001b[39;49m\u001b[43m)\u001b[49m)\n",
      "\u001b[1;31mValueError\u001b[0m: 7 is not in list"
     ]
    }
   ],
   "source": [
    "#------------------------------------------------------------------------\n",
    "# 1.26: Get the index of an elements in List\n",
    "#------------------------------------------------------------------------\n",
    "L = [3, 6, 9, 12, 5, 3, 2]\n",
    "print (\"L               -->\", L)\n",
    "\n",
    "print (\"\")\n",
    "print (\"Index of 9 in L -->\", L.index(9))\n",
    "print (\"Index of 2 in L -->\", L.index(2))\n",
    "print (\"Index of 5 in L -->\", L.index(5))\n",
    "print (\"Index of 7 in L -->\", L.index(7))        # Error; 7 is not is List\n"
   ]
  },
  {
   "cell_type": "markdown",
   "metadata": {
    "id": "DkRTgxvjaF90"
   },
   "source": [
    "### 1.27: Count element in List"
   ]
  },
  {
   "cell_type": "code",
   "execution_count": 43,
   "metadata": {
    "id": "HlPJU4c1aF91",
    "outputId": "4c793ef4-3730-45fa-d845-faf39c944e75"
   },
   "outputs": [
    {
     "name": "stdout",
     "output_type": "stream",
     "text": [
      "L     --> [3, 6, 9, 6, 5, 3, 2]\n",
      "\n",
      "L.count(3) --> 2\n",
      "L.count(2) --> 1\n",
      "L.count(5) --> 1\n",
      "L.count(4) --> 0\n"
     ]
    }
   ],
   "source": [
    "#------------------------------------------------------------------------\n",
    "# 1.27: Count element in List\n",
    "#------------------------------------------------------------------------\n",
    "L = [3, 6, 9, 6, 5, 3, 2]\n",
    "print (\"L     -->\", L)\n",
    "\n",
    "print (\"\")\n",
    "print (\"L.count(3) -->\", L.count(3))\n",
    "print (\"L.count(2) -->\", L.count(2))\n",
    "print (\"L.count(5) -->\", L.count(5))\n",
    "print (\"L.count(4) -->\", L.count(4))\n",
    "\n"
   ]
  },
  {
   "cell_type": "markdown",
   "metadata": {
    "id": "7EnHLtn9aF94"
   },
   "source": [
    "### 1.28: Reverse the List"
   ]
  },
  {
   "cell_type": "code",
   "execution_count": 44,
   "metadata": {
    "id": "JNGAaZ6NaF95",
    "outputId": "7449bc88-e20b-48f3-93a6-29fdb05c1cb0"
   },
   "outputs": [
    {
     "name": "stdout",
     "output_type": "stream",
     "text": [
      "L               --> [3, 6, 9, 6, 5, 3, 2]\n",
      "L after reverse --> [2, 3, 5, 6, 9, 6, 3]\n"
     ]
    }
   ],
   "source": [
    "#------------------------------------------------------------------------\n",
    "# 1.28: Reverse the List\n",
    "#------------------------------------------------------------------------\n",
    "# Example 1\n",
    "L = [3, 6, 9, 6, 5, 3, 2]\n",
    "print (\"L               -->\", L)\n",
    "\n",
    "L.reverse()                         # List L is also reverse\n",
    "print (\"L after reverse -->\", L)\n"
   ]
  },
  {
   "cell_type": "code",
   "execution_count": 45,
   "metadata": {
    "id": "cX1WMAkKaF95",
    "outputId": "f96c5ff5-06e7-4baa-f288-701e846c25e9"
   },
   "outputs": [
    {
     "name": "stdout",
     "output_type": "stream",
     "text": [
      "L                     --> [3, 6, 9, 6, 5, 3, 2]\n",
      "Reverse L (for print) --> [2, 3, 5, 6, 9, 6, 3]\n",
      "L after reverse       --> [2, 3, 5, 6, 9, 6, 3]\n"
     ]
    }
   ],
   "source": [
    "# Example 2\n",
    "L = [3, 6, 9, 6, 5, 3, 2]\n",
    "print (\"L                     -->\", L)\n",
    "\n",
    "print (\"Reverse L (for print) -->\", L[::-1])\n",
    "\n",
    "L = L[::-1]\n",
    "print (\"L after reverse       -->\", L)\n"
   ]
  },
  {
   "cell_type": "markdown",
   "metadata": {
    "id": "5Og2j50iaF96"
   },
   "source": [
    "### 1.29: Nested List - List in List"
   ]
  },
  {
   "cell_type": "code",
   "execution_count": 46,
   "metadata": {
    "id": "FFwOsKAtaF97",
    "outputId": "a0f4c516-b7f7-44fe-fb5a-a21220ea4e55"
   },
   "outputs": [
    {
     "name": "stdout",
     "output_type": "stream",
     "text": [
      "L        --> [3, [10, 20, 30], 9, [12, 5, 3, 2], 'Ram']\n",
      "\n",
      "L[1]     --> [10, 20, 30]\n",
      "L[1][1]  --> 20\n",
      "L[-2]    --> [12, 5, 3, 2]\n",
      "L[-2][-1]--> 2\n",
      "L[-1]    --> Ram\n",
      "L[-1][1] --> a\n"
     ]
    }
   ],
   "source": [
    "#------------------------------------------------------------------------\n",
    "# 1.29: Nested List - List in List\n",
    "#------------------------------------------------------------------------\n",
    "L = [3, [10,20,30], 9, [12, 5, 3, 2],\"Ram\"]\n",
    "print (\"L        -->\", L)\n",
    "\n",
    "print (\"\")\n",
    "print (\"L[1]     -->\", L[1])\n",
    "print (\"L[1][1]  -->\", L[1][1])\n",
    "print (\"L[-2]    -->\", L[-2])\n",
    "print (\"L[-2][-1]-->\", L[-2][-1])\n",
    "print (\"L[-1]    -->\", L[-1])\n",
    "print (\"L[-1][1] -->\", L[-1][1])\n"
   ]
  },
  {
   "cell_type": "markdown",
   "metadata": {
    "id": "egg_JXoOaF98"
   },
   "source": [
    "### 1.30: Nested List - Tuple in List"
   ]
  },
  {
   "cell_type": "code",
   "execution_count": 47,
   "metadata": {
    "id": "jSgifx_FaF99",
    "outputId": "d32411c5-4ae2-4783-9103-b27904e91a65"
   },
   "outputs": [
    {
     "name": "stdout",
     "output_type": "stream",
     "text": [
      "L        --> [3, (10, 20, 30), 9, (12, 5, 3, 2), 'Ram']\n",
      "\n",
      "L[1]     --> (10, 20, 30)\n",
      "L[1][1]  --> 20\n",
      "L[-2]    --> (12, 5, 3, 2)\n",
      "L[-2][-1]--> 2\n",
      "L[-1]    --> Ram\n",
      "L[-1][1] --> a\n"
     ]
    }
   ],
   "source": [
    "#------------------------------------------------------------------------\n",
    "# 1.30: Nested List - Tuple in List\n",
    "#------------------------------------------------------------------------\n",
    "L = [3, (10,20,30), 9, (12, 5, 3, 2),\"Ram\"]\n",
    "print (\"L        -->\", L)\n",
    "\n",
    "print (\"\")\n",
    "print (\"L[1]     -->\", L[1])\n",
    "print (\"L[1][1]  -->\", L[1][1])\n",
    "print (\"L[-2]    -->\", L[-2])\n",
    "print (\"L[-2][-1]-->\", L[-2][-1])\n",
    "print (\"L[-1]    -->\", L[-1])\n",
    "print (\"L[-1][1] -->\", L[-1][1])\n",
    "\n"
   ]
  },
  {
   "cell_type": "markdown",
   "metadata": {
    "id": "Wa8jbrb4aF9-"
   },
   "source": [
    "### 1.31: Use of copy() function - Version 1"
   ]
  },
  {
   "cell_type": "code",
   "execution_count": 48,
   "metadata": {
    "id": "dj5kZBPKaF9-",
    "outputId": "655f74c7-352b-4fc6-814c-29f33664bd8e"
   },
   "outputs": [
    {
     "name": "stdout",
     "output_type": "stream",
     "text": [
      "L  --> [2, 4, 5, 6, 7, 8, 9]\n",
      "L1 --> [2, 4, 5, 6, 7, 8, 9]\n"
     ]
    }
   ],
   "source": [
    "#------------------------------------------------------------------------\n",
    "# 1.31: Use of copy() function - Version 1\n",
    "#------------------------------------------------------------------------\n",
    "# Example 1\n",
    "L = [4, 5, 2, 6, 7, 9, 8]\n",
    "L1 = L                            # Pointing to the same memory location as L\n",
    "\n",
    "L.sort()\n",
    "\n",
    "print (\"L  -->\", L)\n",
    "print (\"L1 -->\", L1)\n"
   ]
  },
  {
   "cell_type": "code",
   "execution_count": 49,
   "metadata": {
    "id": "zBL3KH0TaF-A",
    "outputId": "f987fbf8-6209-4307-aff9-43b751120164"
   },
   "outputs": [
    {
     "name": "stdout",
     "output_type": "stream",
     "text": [
      "L  --> [2, 4, 5, 6, 7, 8, 9]\n",
      "L1 --> [4, 5, 2, 6, 7, 9, 8]\n"
     ]
    }
   ],
   "source": [
    "# Example 2\n",
    "import copy  #copy module has copy method\n",
    "L = [4, 5, 2, 6, 7, 9, 8]\n",
    "L1 = copy.copy(L)                 # New memory is allocated\n",
    "# L1 = list(L)                          # Also work fine\n",
    "\n",
    "L.sort()\n",
    "\n",
    "print (\"L  -->\", L)\n",
    "print (\"L1 -->\", L1)\n"
   ]
  },
  {
   "cell_type": "markdown",
   "metadata": {
    "id": "q44Q8hs3aF-A"
   },
   "source": [
    "### 1.32: Use of deepcopy() function - Version 2"
   ]
  },
  {
   "cell_type": "code",
   "execution_count": 50,
   "metadata": {
    "id": "nm-CHS2saF-B",
    "outputId": "e6a5c5db-5401-46a8-b969-a807cec765bf"
   },
   "outputs": [
    {
     "name": "stdout",
     "output_type": "stream",
     "text": [
      "L  --> [4, 1000, 2, 6, 7, 9, 8]\n",
      "L1 --> [4, 1000, 2, 6, 7, 9, 8]\n"
     ]
    }
   ],
   "source": [
    "#------------------------------------------------------------------------\n",
    "# 1.32: Use of deepcopy() function - Version 2\n",
    "#------------------------------------------------------------------------\n",
    "# Example 1\n",
    "L = [4, 5, 2, 6, 7, 9, 8]\n",
    "L1 = L                            # Pointing to the same memory location as L\n",
    "\n",
    "L[1] = 1000\n",
    "\n",
    "print (\"L  -->\", L)\n",
    "print (\"L1 -->\", L1)\n"
   ]
  },
  {
   "cell_type": "code",
   "execution_count": 51,
   "metadata": {
    "id": "T2UxEONiaF-C",
    "outputId": "b6a587aa-4ee4-489b-a3cf-7f23cfe8b412"
   },
   "outputs": [
    {
     "name": "stdout",
     "output_type": "stream",
     "text": [
      "L  --> [4, 1000, 2, 6, 7, 9, 8]\n",
      "L1 --> [4, 5, 2, 6, 7, 9, 8]\n"
     ]
    }
   ],
   "source": [
    "# Example 2\n",
    "import copy\n",
    "L = [4, 5, 2, 6, 7, 9, 8]\n",
    "L1 = copy.copy(L)                       # Pointing to the same memory location as L\n",
    "# L1 = list(L)                          # Also work fine\n",
    "\n",
    "L[1] = 1000\n",
    "\n",
    "print (\"L  -->\", L)\n",
    "print (\"L1 -->\", L1)"
   ]
  },
  {
   "cell_type": "code",
   "execution_count": 52,
   "metadata": {
    "id": "dJOTG9AiaF-C",
    "outputId": "c1edf872-82e3-4ff2-c687-3065733c3bfc"
   },
   "outputs": [
    {
     "name": "stdout",
     "output_type": "stream",
     "text": [
      "['red', 'green']\n",
      "['red', 'green']\n",
      "['red', 'blue']\n",
      "['red', 'blue']\n"
     ]
    }
   ],
   "source": [
    "colours1 = [\"red\", \"green\"]\n",
    "colours2 = colours1 #No object is created\n",
    "print(colours1)\n",
    "print(colours2)\n",
    "colours2[1] = \"blue\"\n",
    "print(colours1)\n",
    "print(colours2)\n",
    "\n"
   ]
  },
  {
   "cell_type": "code",
   "execution_count": 53,
   "metadata": {
    "id": "fLBRBAReaF-D",
    "outputId": "34b55870-6b38-45c2-f711-8565f85a5d10"
   },
   "outputs": [
    {
     "name": "stdout",
     "output_type": "stream",
     "text": [
      "['red', 'green']\n",
      "['red', 'blue']\n"
     ]
    }
   ],
   "source": [
    "colours1 = [\"red\", \"green\"]\n",
    "colours2 = colours1[:]\n",
    "colours2[1] = \"blue\"\n",
    "print(colours1)  # NO change in Colour1\n",
    "print(colours2)"
   ]
  },
  {
   "cell_type": "code",
   "execution_count": 54,
   "metadata": {
    "id": "jfnbLpe1aF-E",
    "outputId": "cf8e032d-db95-4643-b0bd-60be90a35e6b"
   },
   "outputs": [
    {
     "name": "stdout",
     "output_type": "stream",
     "text": [
      "['a', 'b', ['ab', 'ba']]\n",
      "['a', 'b', ['ab', 'ba']]\n",
      "['a', 'b', ['ab', 'd']]\n",
      "['c', 'b', ['ab', 'd']]\n"
     ]
    }
   ],
   "source": [
    "lst1 = ['a','b',['ab','ba']]\n",
    "lst2 = lst1[:]   #no photocopy is generated\n",
    "print(lst1)\n",
    "print(lst2)\n",
    "lst2[0] = 'c'\n",
    "lst2[2][1] = 'd'\n",
    "print(lst1)\n",
    "print(lst2)"
   ]
  },
  {
   "cell_type": "code",
   "execution_count": 55,
   "metadata": {
    "id": "2n58GG1saF-E",
    "outputId": "9b3f7008-1945-443d-d99a-8454b3e2a1c9"
   },
   "outputs": [
    {
     "name": "stdout",
     "output_type": "stream",
     "text": [
      "['c', 'b', ['ab', 'd']]\n",
      "['a', 'b', ['ab', 'ba']]\n"
     ]
    }
   ],
   "source": [
    "from copy import deepcopy \n",
    "lst1 = ['a','b',['ab','ba']]\n",
    "lst2 = deepcopy(lst1)  #deepcopy to create photocopy of an object\n",
    "lst2[2][1] = \"d\"\n",
    "lst2[0] = \"c\"\n",
    "print(lst2)\n",
    "print(lst1)\n"
   ]
  },
  {
   "cell_type": "code",
   "execution_count": null,
   "metadata": {},
   "outputs": [],
   "source": []
  },
  {
   "cell_type": "code",
   "execution_count": null,
   "metadata": {},
   "outputs": [],
   "source": []
  },
  {
   "cell_type": "code",
   "execution_count": null,
   "metadata": {},
   "outputs": [],
   "source": []
  },
  {
   "cell_type": "code",
   "execution_count": null,
   "metadata": {},
   "outputs": [],
   "source": []
  }
 ],
 "metadata": {
  "colab": {
   "provenance": [
    {
     "file_id": "1wHDgpOjQvruRYjtxUgSHN0QuFbSVpKrI",
     "timestamp": 1673416731660
    }
   ]
  },
  "kernelspec": {
   "display_name": "Python 3 (ipykernel)",
   "language": "python",
   "name": "python3"
  },
  "language_info": {
   "codemirror_mode": {
    "name": "ipython",
    "version": 3
   },
   "file_extension": ".py",
   "mimetype": "text/x-python",
   "name": "python",
   "nbconvert_exporter": "python",
   "pygments_lexer": "ipython3",
   "version": "3.9.12"
  }
 },
 "nbformat": 4,
 "nbformat_minor": 1
}
